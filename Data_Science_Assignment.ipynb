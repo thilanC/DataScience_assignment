{
  "nbformat": 4,
  "nbformat_minor": 0,
  "metadata": {
    "colab": {
      "provenance": [],
      "gpuType": "T4",
      "authorship_tag": "ABX9TyPDmcLuXrgfmxEPizalRTOf",
      "include_colab_link": true
    },
    "kernelspec": {
      "name": "python3",
      "display_name": "Python 3"
    },
    "language_info": {
      "name": "python"
    },
    "accelerator": "GPU"
  },
  "cells": [
    {
      "cell_type": "markdown",
      "metadata": {
        "id": "view-in-github",
        "colab_type": "text"
      },
      "source": [
        "<a href=\"https://colab.research.google.com/github/thilanC/DataScience_assignment/blob/main/Data_Science_Assignment.ipynb\" target=\"_parent\"><img src=\"https://colab.research.google.com/assets/colab-badge.svg\" alt=\"Open In Colab\"/></a>"
      ]
    },
    {
      "cell_type": "code",
      "source": [
        "from google.colab import drive\n",
        "drive.mount('/content/drive')"
      ],
      "metadata": {
        "colab": {
          "base_uri": "https://localhost:8080/"
        },
        "id": "oknok9gugEiZ",
        "outputId": "e413e830-3042-4a0f-c036-eb60bc005fcf"
      },
      "execution_count": 1,
      "outputs": [
        {
          "output_type": "stream",
          "name": "stdout",
          "text": [
            "Mounted at /content/drive\n"
          ]
        }
      ]
    },
    {
      "cell_type": "code",
      "source": [
        "#import necessary libraries\n",
        "import numpy as np\n",
        "import pandas as pd\n",
        "from datetime import datetime\n",
        "import matplotlib.pyplot as plt\n",
        "import seaborn as sns\n",
        "\n",
        "from sklearn.model_selection import train_test_split\n",
        "from sklearn.metrics import confusion_matrix, classification_report, precision_score, recall_score, accuracy_score\n",
        "from sklearn.preprocessing import MinMaxScaler\n",
        "from imblearn.over_sampling import RandomOverSampler\n",
        "\n",
        "from sklearn.linear_model import LogisticRegression\n",
        "from sklearn.ensemble import RandomForestClassifier\n",
        "from sklearn.neighbors import KNeighborsClassifier\n",
        "from xgboost import XGBClassifier\n",
        "from sklearn.svm import SVC\n",
        "from sklearn.ensemble import RandomForestClassifier\n",
        "from sklearn.ensemble import GradientBoostingClassifier\n",
        "\n",
        "import tensorflow as tf\n",
        "from keras.models import Sequential\n",
        "from keras.layers import Dense"
      ],
      "metadata": {
        "id": "lY2orqjEgGNq"
      },
      "execution_count": 2,
      "outputs": []
    },
    {
      "cell_type": "code",
      "source": [
        "#import data set to workbook as df\n",
        "df=pd.read_csv('/content/drive/MyDrive/Machine learning/DS_CaseStudy_Churn_Pred_Data.csv')"
      ],
      "metadata": {
        "id": "wvOlfaHogU3c"
      },
      "execution_count": 3,
      "outputs": []
    },
    {
      "cell_type": "code",
      "source": [
        "#check data frame data types\n",
        "df.dtypes"
      ],
      "metadata": {
        "colab": {
          "base_uri": "https://localhost:8080/"
        },
        "id": "igiYF3hHgiPT",
        "outputId": "380194b4-f83f-466b-8082-4d49a6ae2604"
      },
      "execution_count": 4,
      "outputs": [
        {
          "output_type": "execute_result",
          "data": {
            "text/plain": [
              "delay                 float64\n",
              "created_date            int64\n",
              "pickup_date           float64\n",
              "distance              float64\n",
              "driver_rating         float64\n",
              "fare                  float64\n",
              "discount              float64\n",
              "payment_method        float64\n",
              "promocode              object\n",
              "taximodelid             int64\n",
              "travel_status           int64\n",
              "trip_fare             float64\n",
              "profile_created         int64\n",
              "status_description     object\n",
              "pre_booked              int64\n",
              "passengerid             int64\n",
              "tripid                  int64\n",
              "dtype: object"
            ]
          },
          "metadata": {},
          "execution_count": 4
        }
      ]
    },
    {
      "cell_type": "code",
      "source": [
        "#check df shape (number of raws and columns)\n",
        "df.shape"
      ],
      "metadata": {
        "colab": {
          "base_uri": "https://localhost:8080/"
        },
        "id": "JxuN6IfW0GX1",
        "outputId": "7633a178-bc8f-48c5-ffe6-2eb0acc6a278"
      },
      "execution_count": 5,
      "outputs": [
        {
          "output_type": "execute_result",
          "data": {
            "text/plain": [
              "(9004901, 17)"
            ]
          },
          "metadata": {},
          "execution_count": 5
        }
      ]
    },
    {
      "cell_type": "code",
      "source": [
        "#Get sum of null values\n",
        "df.isna().sum()"
      ],
      "metadata": {
        "colab": {
          "base_uri": "https://localhost:8080/"
        },
        "id": "XaPit-sDvvc6",
        "outputId": "e4ae4613-73b1-47a1-cb5d-50e3653b25e7"
      },
      "execution_count": 6,
      "outputs": [
        {
          "output_type": "execute_result",
          "data": {
            "text/plain": [
              "delay                 5077799\n",
              "created_date                0\n",
              "pickup_date           5077799\n",
              "distance              5081668\n",
              "driver_rating         9004901\n",
              "fare                  5081668\n",
              "discount              5081668\n",
              "payment_method              7\n",
              "promocode             7063769\n",
              "taximodelid                 0\n",
              "travel_status               0\n",
              "trip_fare             5081668\n",
              "profile_created             0\n",
              "status_description          0\n",
              "pre_booked                  0\n",
              "passengerid                 0\n",
              "tripid                      0\n",
              "dtype: int64"
            ]
          },
          "metadata": {},
          "execution_count": 6
        }
      ]
    },
    {
      "cell_type": "code",
      "source": [
        "#Dataframe 1st 5 raws\n",
        "df.head()"
      ],
      "metadata": {
        "colab": {
          "base_uri": "https://localhost:8080/",
          "height": 226
        },
        "id": "J5hade8IbvwQ",
        "outputId": "d2caed47-6e7b-4bee-fbd6-d9119ca428af"
      },
      "execution_count": 7,
      "outputs": [
        {
          "output_type": "execute_result",
          "data": {
            "text/plain": [
              "   delay  created_date  pickup_date  distance  driver_rating    fare  \\\n",
              "0    NaN      20190809          NaN       NaN            NaN     NaN   \n",
              "1   8.38      20190701   20190701.0     16.49            NaN  676.13   \n",
              "2  16.45      20190830   20190830.0     14.39            NaN  836.63   \n",
              "3    NaN      20190709          NaN       NaN            NaN     NaN   \n",
              "4    NaN      20190718          NaN       NaN            NaN     NaN   \n",
              "\n",
              "   discount  payment_method promocode  taximodelid  travel_status  trip_fare  \\\n",
              "0       NaN             1.0       NaN            1             12        NaN   \n",
              "1       0.0             1.0       NaN            1              1     676.13   \n",
              "2       0.0             1.0       NaN            2              1     836.63   \n",
              "3       NaN             1.0     lpp42            1             12        NaN   \n",
              "4       NaN             1.0      abac            4             12        NaN   \n",
              "\n",
              "   profile_created status_description  pre_booked  passengerid   tripid  \n",
              "0         20170223        Unavailable           0       107206  7542464  \n",
              "1         20180201          Completed           0       123034  6044316  \n",
              "2         20180905          Completed           0       201136  1959290  \n",
              "3         20180113        Unavailable           0       403293  1250879  \n",
              "4         20190702        Unavailable           0       448530   884375  "
            ],
            "text/html": [
              "\n",
              "  <div id=\"df-f54a05ba-d5f8-4e7c-b893-9128894de54d\" class=\"colab-df-container\">\n",
              "    <div>\n",
              "<style scoped>\n",
              "    .dataframe tbody tr th:only-of-type {\n",
              "        vertical-align: middle;\n",
              "    }\n",
              "\n",
              "    .dataframe tbody tr th {\n",
              "        vertical-align: top;\n",
              "    }\n",
              "\n",
              "    .dataframe thead th {\n",
              "        text-align: right;\n",
              "    }\n",
              "</style>\n",
              "<table border=\"1\" class=\"dataframe\">\n",
              "  <thead>\n",
              "    <tr style=\"text-align: right;\">\n",
              "      <th></th>\n",
              "      <th>delay</th>\n",
              "      <th>created_date</th>\n",
              "      <th>pickup_date</th>\n",
              "      <th>distance</th>\n",
              "      <th>driver_rating</th>\n",
              "      <th>fare</th>\n",
              "      <th>discount</th>\n",
              "      <th>payment_method</th>\n",
              "      <th>promocode</th>\n",
              "      <th>taximodelid</th>\n",
              "      <th>travel_status</th>\n",
              "      <th>trip_fare</th>\n",
              "      <th>profile_created</th>\n",
              "      <th>status_description</th>\n",
              "      <th>pre_booked</th>\n",
              "      <th>passengerid</th>\n",
              "      <th>tripid</th>\n",
              "    </tr>\n",
              "  </thead>\n",
              "  <tbody>\n",
              "    <tr>\n",
              "      <th>0</th>\n",
              "      <td>NaN</td>\n",
              "      <td>20190809</td>\n",
              "      <td>NaN</td>\n",
              "      <td>NaN</td>\n",
              "      <td>NaN</td>\n",
              "      <td>NaN</td>\n",
              "      <td>NaN</td>\n",
              "      <td>1.0</td>\n",
              "      <td>NaN</td>\n",
              "      <td>1</td>\n",
              "      <td>12</td>\n",
              "      <td>NaN</td>\n",
              "      <td>20170223</td>\n",
              "      <td>Unavailable</td>\n",
              "      <td>0</td>\n",
              "      <td>107206</td>\n",
              "      <td>7542464</td>\n",
              "    </tr>\n",
              "    <tr>\n",
              "      <th>1</th>\n",
              "      <td>8.38</td>\n",
              "      <td>20190701</td>\n",
              "      <td>20190701.0</td>\n",
              "      <td>16.49</td>\n",
              "      <td>NaN</td>\n",
              "      <td>676.13</td>\n",
              "      <td>0.0</td>\n",
              "      <td>1.0</td>\n",
              "      <td>NaN</td>\n",
              "      <td>1</td>\n",
              "      <td>1</td>\n",
              "      <td>676.13</td>\n",
              "      <td>20180201</td>\n",
              "      <td>Completed</td>\n",
              "      <td>0</td>\n",
              "      <td>123034</td>\n",
              "      <td>6044316</td>\n",
              "    </tr>\n",
              "    <tr>\n",
              "      <th>2</th>\n",
              "      <td>16.45</td>\n",
              "      <td>20190830</td>\n",
              "      <td>20190830.0</td>\n",
              "      <td>14.39</td>\n",
              "      <td>NaN</td>\n",
              "      <td>836.63</td>\n",
              "      <td>0.0</td>\n",
              "      <td>1.0</td>\n",
              "      <td>NaN</td>\n",
              "      <td>2</td>\n",
              "      <td>1</td>\n",
              "      <td>836.63</td>\n",
              "      <td>20180905</td>\n",
              "      <td>Completed</td>\n",
              "      <td>0</td>\n",
              "      <td>201136</td>\n",
              "      <td>1959290</td>\n",
              "    </tr>\n",
              "    <tr>\n",
              "      <th>3</th>\n",
              "      <td>NaN</td>\n",
              "      <td>20190709</td>\n",
              "      <td>NaN</td>\n",
              "      <td>NaN</td>\n",
              "      <td>NaN</td>\n",
              "      <td>NaN</td>\n",
              "      <td>NaN</td>\n",
              "      <td>1.0</td>\n",
              "      <td>lpp42</td>\n",
              "      <td>1</td>\n",
              "      <td>12</td>\n",
              "      <td>NaN</td>\n",
              "      <td>20180113</td>\n",
              "      <td>Unavailable</td>\n",
              "      <td>0</td>\n",
              "      <td>403293</td>\n",
              "      <td>1250879</td>\n",
              "    </tr>\n",
              "    <tr>\n",
              "      <th>4</th>\n",
              "      <td>NaN</td>\n",
              "      <td>20190718</td>\n",
              "      <td>NaN</td>\n",
              "      <td>NaN</td>\n",
              "      <td>NaN</td>\n",
              "      <td>NaN</td>\n",
              "      <td>NaN</td>\n",
              "      <td>1.0</td>\n",
              "      <td>abac</td>\n",
              "      <td>4</td>\n",
              "      <td>12</td>\n",
              "      <td>NaN</td>\n",
              "      <td>20190702</td>\n",
              "      <td>Unavailable</td>\n",
              "      <td>0</td>\n",
              "      <td>448530</td>\n",
              "      <td>884375</td>\n",
              "    </tr>\n",
              "  </tbody>\n",
              "</table>\n",
              "</div>\n",
              "    <div class=\"colab-df-buttons\">\n",
              "\n",
              "  <div class=\"colab-df-container\">\n",
              "    <button class=\"colab-df-convert\" onclick=\"convertToInteractive('df-f54a05ba-d5f8-4e7c-b893-9128894de54d')\"\n",
              "            title=\"Convert this dataframe to an interactive table.\"\n",
              "            style=\"display:none;\">\n",
              "\n",
              "  <svg xmlns=\"http://www.w3.org/2000/svg\" height=\"24px\" viewBox=\"0 -960 960 960\">\n",
              "    <path d=\"M120-120v-720h720v720H120Zm60-500h600v-160H180v160Zm220 220h160v-160H400v160Zm0 220h160v-160H400v160ZM180-400h160v-160H180v160Zm440 0h160v-160H620v160ZM180-180h160v-160H180v160Zm440 0h160v-160H620v160Z\"/>\n",
              "  </svg>\n",
              "    </button>\n",
              "\n",
              "  <style>\n",
              "    .colab-df-container {\n",
              "      display:flex;\n",
              "      gap: 12px;\n",
              "    }\n",
              "\n",
              "    .colab-df-convert {\n",
              "      background-color: #E8F0FE;\n",
              "      border: none;\n",
              "      border-radius: 50%;\n",
              "      cursor: pointer;\n",
              "      display: none;\n",
              "      fill: #1967D2;\n",
              "      height: 32px;\n",
              "      padding: 0 0 0 0;\n",
              "      width: 32px;\n",
              "    }\n",
              "\n",
              "    .colab-df-convert:hover {\n",
              "      background-color: #E2EBFA;\n",
              "      box-shadow: 0px 1px 2px rgba(60, 64, 67, 0.3), 0px 1px 3px 1px rgba(60, 64, 67, 0.15);\n",
              "      fill: #174EA6;\n",
              "    }\n",
              "\n",
              "    .colab-df-buttons div {\n",
              "      margin-bottom: 4px;\n",
              "    }\n",
              "\n",
              "    [theme=dark] .colab-df-convert {\n",
              "      background-color: #3B4455;\n",
              "      fill: #D2E3FC;\n",
              "    }\n",
              "\n",
              "    [theme=dark] .colab-df-convert:hover {\n",
              "      background-color: #434B5C;\n",
              "      box-shadow: 0px 1px 3px 1px rgba(0, 0, 0, 0.15);\n",
              "      filter: drop-shadow(0px 1px 2px rgba(0, 0, 0, 0.3));\n",
              "      fill: #FFFFFF;\n",
              "    }\n",
              "  </style>\n",
              "\n",
              "    <script>\n",
              "      const buttonEl =\n",
              "        document.querySelector('#df-f54a05ba-d5f8-4e7c-b893-9128894de54d button.colab-df-convert');\n",
              "      buttonEl.style.display =\n",
              "        google.colab.kernel.accessAllowed ? 'block' : 'none';\n",
              "\n",
              "      async function convertToInteractive(key) {\n",
              "        const element = document.querySelector('#df-f54a05ba-d5f8-4e7c-b893-9128894de54d');\n",
              "        const dataTable =\n",
              "          await google.colab.kernel.invokeFunction('convertToInteractive',\n",
              "                                                    [key], {});\n",
              "        if (!dataTable) return;\n",
              "\n",
              "        const docLinkHtml = 'Like what you see? Visit the ' +\n",
              "          '<a target=\"_blank\" href=https://colab.research.google.com/notebooks/data_table.ipynb>data table notebook</a>'\n",
              "          + ' to learn more about interactive tables.';\n",
              "        element.innerHTML = '';\n",
              "        dataTable['output_type'] = 'display_data';\n",
              "        await google.colab.output.renderOutput(dataTable, element);\n",
              "        const docLink = document.createElement('div');\n",
              "        docLink.innerHTML = docLinkHtml;\n",
              "        element.appendChild(docLink);\n",
              "      }\n",
              "    </script>\n",
              "  </div>\n",
              "\n",
              "\n",
              "<div id=\"df-cd901697-05ff-4a57-9bb4-994eec990d1f\">\n",
              "  <button class=\"colab-df-quickchart\" onclick=\"quickchart('df-cd901697-05ff-4a57-9bb4-994eec990d1f')\"\n",
              "            title=\"Suggest charts.\"\n",
              "            style=\"display:none;\">\n",
              "\n",
              "<svg xmlns=\"http://www.w3.org/2000/svg\" height=\"24px\"viewBox=\"0 0 24 24\"\n",
              "     width=\"24px\">\n",
              "    <g>\n",
              "        <path d=\"M19 3H5c-1.1 0-2 .9-2 2v14c0 1.1.9 2 2 2h14c1.1 0 2-.9 2-2V5c0-1.1-.9-2-2-2zM9 17H7v-7h2v7zm4 0h-2V7h2v10zm4 0h-2v-4h2v4z\"/>\n",
              "    </g>\n",
              "</svg>\n",
              "  </button>\n",
              "\n",
              "<style>\n",
              "  .colab-df-quickchart {\n",
              "      --bg-color: #E8F0FE;\n",
              "      --fill-color: #1967D2;\n",
              "      --hover-bg-color: #E2EBFA;\n",
              "      --hover-fill-color: #174EA6;\n",
              "      --disabled-fill-color: #AAA;\n",
              "      --disabled-bg-color: #DDD;\n",
              "  }\n",
              "\n",
              "  [theme=dark] .colab-df-quickchart {\n",
              "      --bg-color: #3B4455;\n",
              "      --fill-color: #D2E3FC;\n",
              "      --hover-bg-color: #434B5C;\n",
              "      --hover-fill-color: #FFFFFF;\n",
              "      --disabled-bg-color: #3B4455;\n",
              "      --disabled-fill-color: #666;\n",
              "  }\n",
              "\n",
              "  .colab-df-quickchart {\n",
              "    background-color: var(--bg-color);\n",
              "    border: none;\n",
              "    border-radius: 50%;\n",
              "    cursor: pointer;\n",
              "    display: none;\n",
              "    fill: var(--fill-color);\n",
              "    height: 32px;\n",
              "    padding: 0;\n",
              "    width: 32px;\n",
              "  }\n",
              "\n",
              "  .colab-df-quickchart:hover {\n",
              "    background-color: var(--hover-bg-color);\n",
              "    box-shadow: 0 1px 2px rgba(60, 64, 67, 0.3), 0 1px 3px 1px rgba(60, 64, 67, 0.15);\n",
              "    fill: var(--button-hover-fill-color);\n",
              "  }\n",
              "\n",
              "  .colab-df-quickchart-complete:disabled,\n",
              "  .colab-df-quickchart-complete:disabled:hover {\n",
              "    background-color: var(--disabled-bg-color);\n",
              "    fill: var(--disabled-fill-color);\n",
              "    box-shadow: none;\n",
              "  }\n",
              "\n",
              "  .colab-df-spinner {\n",
              "    border: 2px solid var(--fill-color);\n",
              "    border-color: transparent;\n",
              "    border-bottom-color: var(--fill-color);\n",
              "    animation:\n",
              "      spin 1s steps(1) infinite;\n",
              "  }\n",
              "\n",
              "  @keyframes spin {\n",
              "    0% {\n",
              "      border-color: transparent;\n",
              "      border-bottom-color: var(--fill-color);\n",
              "      border-left-color: var(--fill-color);\n",
              "    }\n",
              "    20% {\n",
              "      border-color: transparent;\n",
              "      border-left-color: var(--fill-color);\n",
              "      border-top-color: var(--fill-color);\n",
              "    }\n",
              "    30% {\n",
              "      border-color: transparent;\n",
              "      border-left-color: var(--fill-color);\n",
              "      border-top-color: var(--fill-color);\n",
              "      border-right-color: var(--fill-color);\n",
              "    }\n",
              "    40% {\n",
              "      border-color: transparent;\n",
              "      border-right-color: var(--fill-color);\n",
              "      border-top-color: var(--fill-color);\n",
              "    }\n",
              "    60% {\n",
              "      border-color: transparent;\n",
              "      border-right-color: var(--fill-color);\n",
              "    }\n",
              "    80% {\n",
              "      border-color: transparent;\n",
              "      border-right-color: var(--fill-color);\n",
              "      border-bottom-color: var(--fill-color);\n",
              "    }\n",
              "    90% {\n",
              "      border-color: transparent;\n",
              "      border-bottom-color: var(--fill-color);\n",
              "    }\n",
              "  }\n",
              "</style>\n",
              "\n",
              "  <script>\n",
              "    async function quickchart(key) {\n",
              "      const quickchartButtonEl =\n",
              "        document.querySelector('#' + key + ' button');\n",
              "      quickchartButtonEl.disabled = true;  // To prevent multiple clicks.\n",
              "      quickchartButtonEl.classList.add('colab-df-spinner');\n",
              "      try {\n",
              "        const charts = await google.colab.kernel.invokeFunction(\n",
              "            'suggestCharts', [key], {});\n",
              "      } catch (error) {\n",
              "        console.error('Error during call to suggestCharts:', error);\n",
              "      }\n",
              "      quickchartButtonEl.classList.remove('colab-df-spinner');\n",
              "      quickchartButtonEl.classList.add('colab-df-quickchart-complete');\n",
              "    }\n",
              "    (() => {\n",
              "      let quickchartButtonEl =\n",
              "        document.querySelector('#df-cd901697-05ff-4a57-9bb4-994eec990d1f button');\n",
              "      quickchartButtonEl.style.display =\n",
              "        google.colab.kernel.accessAllowed ? 'block' : 'none';\n",
              "    })();\n",
              "  </script>\n",
              "</div>\n",
              "    </div>\n",
              "  </div>\n"
            ]
          },
          "metadata": {},
          "execution_count": 7
        }
      ]
    },
    {
      "cell_type": "code",
      "source": [
        "df['promocode'].value_counts()"
      ],
      "metadata": {
        "colab": {
          "base_uri": "https://localhost:8080/"
        },
        "id": "Racj280feOOT",
        "outputId": "3678bfc9-e58c-49a3-ee03-3059363a5921"
      },
      "execution_count": 8,
      "outputs": [
        {
          "output_type": "execute_result",
          "data": {
            "text/plain": [
              "LPP53                     41852\n",
              "AVG58                     35312\n",
              "DC26                      35306\n",
              "7T7EVEN                   31519\n",
              "6to6even                  28582\n",
              "                          ...  \n",
              "6t06PROMO Removed             1\n",
              "LLP50 Removed                 1\n",
              "lPP62                         1\n",
              "768110909 Removed             1\n",
              "mount mary inn Removed        1\n",
              "Name: promocode, Length: 3584, dtype: int64"
            ]
          },
          "metadata": {},
          "execution_count": 8
        }
      ]
    },
    {
      "cell_type": "code",
      "source": [
        "df['status_description'].value_counts()"
      ],
      "metadata": {
        "colab": {
          "base_uri": "https://localhost:8080/"
        },
        "id": "69ZoZZ5-eOWP",
        "outputId": "45fbd5d9-acc6-4aa5-8302-ac3566e44bb5"
      },
      "execution_count": 9,
      "outputs": [
        {
          "output_type": "execute_result",
          "data": {
            "text/plain": [
              "Completed                           3923005\n",
              "Unavailable                         2585817\n",
              "Passenger Cancel Before Accept      1376812\n",
              "Cancel By Passenger After Accept    1012955\n",
              "Driver & Dispatcher Cancellation      85667\n",
              "Concurrent Request                    20366\n",
              "Rejected                                279\n",
              "Name: status_description, dtype: int64"
            ]
          },
          "metadata": {},
          "execution_count": 9
        }
      ]
    },
    {
      "cell_type": "code",
      "source": [
        "#drop unnecessary attributes\n",
        "df.drop(['pickup_date','driver_rating','payment_method','promocode','trip_fare','status_description','pre_booked','tripid'],axis=1,inplace=True)"
      ],
      "metadata": {
        "id": "Rt6qTJ7YveVS"
      },
      "execution_count": 10,
      "outputs": []
    },
    {
      "cell_type": "code",
      "source": [
        "df.head()"
      ],
      "metadata": {
        "colab": {
          "base_uri": "https://localhost:8080/",
          "height": 206
        },
        "id": "RCCXkFQ_4K4M",
        "outputId": "10a78025-57a5-4f7a-baef-36c909fb6086"
      },
      "execution_count": 11,
      "outputs": [
        {
          "output_type": "execute_result",
          "data": {
            "text/plain": [
              "   delay  created_date  distance    fare  discount  taximodelid  \\\n",
              "0    NaN      20190809       NaN     NaN       NaN            1   \n",
              "1   8.38      20190701     16.49  676.13       0.0            1   \n",
              "2  16.45      20190830     14.39  836.63       0.0            2   \n",
              "3    NaN      20190709       NaN     NaN       NaN            1   \n",
              "4    NaN      20190718       NaN     NaN       NaN            4   \n",
              "\n",
              "   travel_status  profile_created  passengerid  \n",
              "0             12         20170223       107206  \n",
              "1              1         20180201       123034  \n",
              "2              1         20180905       201136  \n",
              "3             12         20180113       403293  \n",
              "4             12         20190702       448530  "
            ],
            "text/html": [
              "\n",
              "  <div id=\"df-1a9921bb-0e53-4fe0-bacb-3fa45fa17495\" class=\"colab-df-container\">\n",
              "    <div>\n",
              "<style scoped>\n",
              "    .dataframe tbody tr th:only-of-type {\n",
              "        vertical-align: middle;\n",
              "    }\n",
              "\n",
              "    .dataframe tbody tr th {\n",
              "        vertical-align: top;\n",
              "    }\n",
              "\n",
              "    .dataframe thead th {\n",
              "        text-align: right;\n",
              "    }\n",
              "</style>\n",
              "<table border=\"1\" class=\"dataframe\">\n",
              "  <thead>\n",
              "    <tr style=\"text-align: right;\">\n",
              "      <th></th>\n",
              "      <th>delay</th>\n",
              "      <th>created_date</th>\n",
              "      <th>distance</th>\n",
              "      <th>fare</th>\n",
              "      <th>discount</th>\n",
              "      <th>taximodelid</th>\n",
              "      <th>travel_status</th>\n",
              "      <th>profile_created</th>\n",
              "      <th>passengerid</th>\n",
              "    </tr>\n",
              "  </thead>\n",
              "  <tbody>\n",
              "    <tr>\n",
              "      <th>0</th>\n",
              "      <td>NaN</td>\n",
              "      <td>20190809</td>\n",
              "      <td>NaN</td>\n",
              "      <td>NaN</td>\n",
              "      <td>NaN</td>\n",
              "      <td>1</td>\n",
              "      <td>12</td>\n",
              "      <td>20170223</td>\n",
              "      <td>107206</td>\n",
              "    </tr>\n",
              "    <tr>\n",
              "      <th>1</th>\n",
              "      <td>8.38</td>\n",
              "      <td>20190701</td>\n",
              "      <td>16.49</td>\n",
              "      <td>676.13</td>\n",
              "      <td>0.0</td>\n",
              "      <td>1</td>\n",
              "      <td>1</td>\n",
              "      <td>20180201</td>\n",
              "      <td>123034</td>\n",
              "    </tr>\n",
              "    <tr>\n",
              "      <th>2</th>\n",
              "      <td>16.45</td>\n",
              "      <td>20190830</td>\n",
              "      <td>14.39</td>\n",
              "      <td>836.63</td>\n",
              "      <td>0.0</td>\n",
              "      <td>2</td>\n",
              "      <td>1</td>\n",
              "      <td>20180905</td>\n",
              "      <td>201136</td>\n",
              "    </tr>\n",
              "    <tr>\n",
              "      <th>3</th>\n",
              "      <td>NaN</td>\n",
              "      <td>20190709</td>\n",
              "      <td>NaN</td>\n",
              "      <td>NaN</td>\n",
              "      <td>NaN</td>\n",
              "      <td>1</td>\n",
              "      <td>12</td>\n",
              "      <td>20180113</td>\n",
              "      <td>403293</td>\n",
              "    </tr>\n",
              "    <tr>\n",
              "      <th>4</th>\n",
              "      <td>NaN</td>\n",
              "      <td>20190718</td>\n",
              "      <td>NaN</td>\n",
              "      <td>NaN</td>\n",
              "      <td>NaN</td>\n",
              "      <td>4</td>\n",
              "      <td>12</td>\n",
              "      <td>20190702</td>\n",
              "      <td>448530</td>\n",
              "    </tr>\n",
              "  </tbody>\n",
              "</table>\n",
              "</div>\n",
              "    <div class=\"colab-df-buttons\">\n",
              "\n",
              "  <div class=\"colab-df-container\">\n",
              "    <button class=\"colab-df-convert\" onclick=\"convertToInteractive('df-1a9921bb-0e53-4fe0-bacb-3fa45fa17495')\"\n",
              "            title=\"Convert this dataframe to an interactive table.\"\n",
              "            style=\"display:none;\">\n",
              "\n",
              "  <svg xmlns=\"http://www.w3.org/2000/svg\" height=\"24px\" viewBox=\"0 -960 960 960\">\n",
              "    <path d=\"M120-120v-720h720v720H120Zm60-500h600v-160H180v160Zm220 220h160v-160H400v160Zm0 220h160v-160H400v160ZM180-400h160v-160H180v160Zm440 0h160v-160H620v160ZM180-180h160v-160H180v160Zm440 0h160v-160H620v160Z\"/>\n",
              "  </svg>\n",
              "    </button>\n",
              "\n",
              "  <style>\n",
              "    .colab-df-container {\n",
              "      display:flex;\n",
              "      gap: 12px;\n",
              "    }\n",
              "\n",
              "    .colab-df-convert {\n",
              "      background-color: #E8F0FE;\n",
              "      border: none;\n",
              "      border-radius: 50%;\n",
              "      cursor: pointer;\n",
              "      display: none;\n",
              "      fill: #1967D2;\n",
              "      height: 32px;\n",
              "      padding: 0 0 0 0;\n",
              "      width: 32px;\n",
              "    }\n",
              "\n",
              "    .colab-df-convert:hover {\n",
              "      background-color: #E2EBFA;\n",
              "      box-shadow: 0px 1px 2px rgba(60, 64, 67, 0.3), 0px 1px 3px 1px rgba(60, 64, 67, 0.15);\n",
              "      fill: #174EA6;\n",
              "    }\n",
              "\n",
              "    .colab-df-buttons div {\n",
              "      margin-bottom: 4px;\n",
              "    }\n",
              "\n",
              "    [theme=dark] .colab-df-convert {\n",
              "      background-color: #3B4455;\n",
              "      fill: #D2E3FC;\n",
              "    }\n",
              "\n",
              "    [theme=dark] .colab-df-convert:hover {\n",
              "      background-color: #434B5C;\n",
              "      box-shadow: 0px 1px 3px 1px rgba(0, 0, 0, 0.15);\n",
              "      filter: drop-shadow(0px 1px 2px rgba(0, 0, 0, 0.3));\n",
              "      fill: #FFFFFF;\n",
              "    }\n",
              "  </style>\n",
              "\n",
              "    <script>\n",
              "      const buttonEl =\n",
              "        document.querySelector('#df-1a9921bb-0e53-4fe0-bacb-3fa45fa17495 button.colab-df-convert');\n",
              "      buttonEl.style.display =\n",
              "        google.colab.kernel.accessAllowed ? 'block' : 'none';\n",
              "\n",
              "      async function convertToInteractive(key) {\n",
              "        const element = document.querySelector('#df-1a9921bb-0e53-4fe0-bacb-3fa45fa17495');\n",
              "        const dataTable =\n",
              "          await google.colab.kernel.invokeFunction('convertToInteractive',\n",
              "                                                    [key], {});\n",
              "        if (!dataTable) return;\n",
              "\n",
              "        const docLinkHtml = 'Like what you see? Visit the ' +\n",
              "          '<a target=\"_blank\" href=https://colab.research.google.com/notebooks/data_table.ipynb>data table notebook</a>'\n",
              "          + ' to learn more about interactive tables.';\n",
              "        element.innerHTML = '';\n",
              "        dataTable['output_type'] = 'display_data';\n",
              "        await google.colab.output.renderOutput(dataTable, element);\n",
              "        const docLink = document.createElement('div');\n",
              "        docLink.innerHTML = docLinkHtml;\n",
              "        element.appendChild(docLink);\n",
              "      }\n",
              "    </script>\n",
              "  </div>\n",
              "\n",
              "\n",
              "<div id=\"df-bfa7a55a-7173-47cd-a5ea-ce104d2d094a\">\n",
              "  <button class=\"colab-df-quickchart\" onclick=\"quickchart('df-bfa7a55a-7173-47cd-a5ea-ce104d2d094a')\"\n",
              "            title=\"Suggest charts.\"\n",
              "            style=\"display:none;\">\n",
              "\n",
              "<svg xmlns=\"http://www.w3.org/2000/svg\" height=\"24px\"viewBox=\"0 0 24 24\"\n",
              "     width=\"24px\">\n",
              "    <g>\n",
              "        <path d=\"M19 3H5c-1.1 0-2 .9-2 2v14c0 1.1.9 2 2 2h14c1.1 0 2-.9 2-2V5c0-1.1-.9-2-2-2zM9 17H7v-7h2v7zm4 0h-2V7h2v10zm4 0h-2v-4h2v4z\"/>\n",
              "    </g>\n",
              "</svg>\n",
              "  </button>\n",
              "\n",
              "<style>\n",
              "  .colab-df-quickchart {\n",
              "      --bg-color: #E8F0FE;\n",
              "      --fill-color: #1967D2;\n",
              "      --hover-bg-color: #E2EBFA;\n",
              "      --hover-fill-color: #174EA6;\n",
              "      --disabled-fill-color: #AAA;\n",
              "      --disabled-bg-color: #DDD;\n",
              "  }\n",
              "\n",
              "  [theme=dark] .colab-df-quickchart {\n",
              "      --bg-color: #3B4455;\n",
              "      --fill-color: #D2E3FC;\n",
              "      --hover-bg-color: #434B5C;\n",
              "      --hover-fill-color: #FFFFFF;\n",
              "      --disabled-bg-color: #3B4455;\n",
              "      --disabled-fill-color: #666;\n",
              "  }\n",
              "\n",
              "  .colab-df-quickchart {\n",
              "    background-color: var(--bg-color);\n",
              "    border: none;\n",
              "    border-radius: 50%;\n",
              "    cursor: pointer;\n",
              "    display: none;\n",
              "    fill: var(--fill-color);\n",
              "    height: 32px;\n",
              "    padding: 0;\n",
              "    width: 32px;\n",
              "  }\n",
              "\n",
              "  .colab-df-quickchart:hover {\n",
              "    background-color: var(--hover-bg-color);\n",
              "    box-shadow: 0 1px 2px rgba(60, 64, 67, 0.3), 0 1px 3px 1px rgba(60, 64, 67, 0.15);\n",
              "    fill: var(--button-hover-fill-color);\n",
              "  }\n",
              "\n",
              "  .colab-df-quickchart-complete:disabled,\n",
              "  .colab-df-quickchart-complete:disabled:hover {\n",
              "    background-color: var(--disabled-bg-color);\n",
              "    fill: var(--disabled-fill-color);\n",
              "    box-shadow: none;\n",
              "  }\n",
              "\n",
              "  .colab-df-spinner {\n",
              "    border: 2px solid var(--fill-color);\n",
              "    border-color: transparent;\n",
              "    border-bottom-color: var(--fill-color);\n",
              "    animation:\n",
              "      spin 1s steps(1) infinite;\n",
              "  }\n",
              "\n",
              "  @keyframes spin {\n",
              "    0% {\n",
              "      border-color: transparent;\n",
              "      border-bottom-color: var(--fill-color);\n",
              "      border-left-color: var(--fill-color);\n",
              "    }\n",
              "    20% {\n",
              "      border-color: transparent;\n",
              "      border-left-color: var(--fill-color);\n",
              "      border-top-color: var(--fill-color);\n",
              "    }\n",
              "    30% {\n",
              "      border-color: transparent;\n",
              "      border-left-color: var(--fill-color);\n",
              "      border-top-color: var(--fill-color);\n",
              "      border-right-color: var(--fill-color);\n",
              "    }\n",
              "    40% {\n",
              "      border-color: transparent;\n",
              "      border-right-color: var(--fill-color);\n",
              "      border-top-color: var(--fill-color);\n",
              "    }\n",
              "    60% {\n",
              "      border-color: transparent;\n",
              "      border-right-color: var(--fill-color);\n",
              "    }\n",
              "    80% {\n",
              "      border-color: transparent;\n",
              "      border-right-color: var(--fill-color);\n",
              "      border-bottom-color: var(--fill-color);\n",
              "    }\n",
              "    90% {\n",
              "      border-color: transparent;\n",
              "      border-bottom-color: var(--fill-color);\n",
              "    }\n",
              "  }\n",
              "</style>\n",
              "\n",
              "  <script>\n",
              "    async function quickchart(key) {\n",
              "      const quickchartButtonEl =\n",
              "        document.querySelector('#' + key + ' button');\n",
              "      quickchartButtonEl.disabled = true;  // To prevent multiple clicks.\n",
              "      quickchartButtonEl.classList.add('colab-df-spinner');\n",
              "      try {\n",
              "        const charts = await google.colab.kernel.invokeFunction(\n",
              "            'suggestCharts', [key], {});\n",
              "      } catch (error) {\n",
              "        console.error('Error during call to suggestCharts:', error);\n",
              "      }\n",
              "      quickchartButtonEl.classList.remove('colab-df-spinner');\n",
              "      quickchartButtonEl.classList.add('colab-df-quickchart-complete');\n",
              "    }\n",
              "    (() => {\n",
              "      let quickchartButtonEl =\n",
              "        document.querySelector('#df-bfa7a55a-7173-47cd-a5ea-ce104d2d094a button');\n",
              "      quickchartButtonEl.style.display =\n",
              "        google.colab.kernel.accessAllowed ? 'block' : 'none';\n",
              "    })();\n",
              "  </script>\n",
              "</div>\n",
              "    </div>\n",
              "  </div>\n"
            ]
          },
          "metadata": {},
          "execution_count": 11
        }
      ]
    },
    {
      "cell_type": "code",
      "source": [
        "#check how many customer in here\n",
        "len(df.passengerid.unique())"
      ],
      "metadata": {
        "colab": {
          "base_uri": "https://localhost:8080/"
        },
        "id": "ZDSl7WT3z4_t",
        "outputId": "d72701c8-a6c1-4baf-bb6e-18fd5c14e250"
      },
      "execution_count": 12,
      "outputs": [
        {
          "output_type": "execute_result",
          "data": {
            "text/plain": [
              "518744"
            ]
          },
          "metadata": {},
          "execution_count": 12
        }
      ]
    },
    {
      "cell_type": "code",
      "source": [
        "# Function to convert the integer date format to \"YYYY-MM-DD\" string\n",
        "def convert_date_format(date_int):\n",
        "    date_str = str(date_int)\n",
        "    original_date = datetime.strptime(date_str, '%Y%m%d')\n",
        "    formatted_date_string = original_date.strftime('%Y-%m-%d')\n",
        "    return formatted_date_string"
      ],
      "metadata": {
        "id": "WfhOXR7Hzstn"
      },
      "execution_count": 13,
      "outputs": []
    },
    {
      "cell_type": "code",
      "source": [
        "# Apply the function to the date column\n",
        "df['created_date'] = df['created_date'].apply(convert_date_format)\n",
        "df['profile_created'] = df['profile_created'].apply(convert_date_format)"
      ],
      "metadata": {
        "id": "G6n1ixZfaC94"
      },
      "execution_count": null,
      "outputs": []
    },
    {
      "cell_type": "code",
      "source": [
        "df.head()"
      ],
      "metadata": {
        "id": "IJZE5xf3a7aX"
      },
      "execution_count": null,
      "outputs": []
    },
    {
      "cell_type": "code",
      "source": [
        "#drop null value contaning raws in distance column\n",
        "df.dropna(subset=['distance'], inplace=True)"
      ],
      "metadata": {
        "id": "V9YOgR6HrLQ7"
      },
      "execution_count": null,
      "outputs": []
    },
    {
      "cell_type": "markdown",
      "source": [
        " Here distance culumn has huge null values. That null value means zero distance or else. I take only traveled customer details. So here I made an assumption consider only traveled customer details, customer will only churn or not if they travel."
      ],
      "metadata": {
        "id": "0FPXUd3F0sIB"
      }
    },
    {
      "cell_type": "code",
      "source": [
        "df.shape"
      ],
      "metadata": {
        "id": "c5TAmKOkrwtu"
      },
      "execution_count": null,
      "outputs": []
    },
    {
      "cell_type": "code",
      "source": [
        "#Get sum of null values\n",
        "df.isna().sum()"
      ],
      "metadata": {
        "id": "DGnzhRGWsr1S"
      },
      "execution_count": null,
      "outputs": []
    },
    {
      "cell_type": "code",
      "source": [
        "#fill remain null values using zero\n",
        "df = df.fillna(0)"
      ],
      "metadata": {
        "id": "kpVyX3W1GipA"
      },
      "execution_count": null,
      "outputs": []
    },
    {
      "cell_type": "code",
      "source": [
        "# Count the number of trips for each 'passengerid' and create a num_trips\n",
        "num_trips = df['passengerid'].value_counts().reset_index()\n",
        "\n",
        "# Rename the columns to be more meaningfull\n",
        "num_trips.columns = ['passengerid', 'Trip_count']"
      ],
      "metadata": {
        "id": "zjbqqIrIs2a1"
      },
      "execution_count": null,
      "outputs": []
    },
    {
      "cell_type": "code",
      "source": [
        "num_trips.shape"
      ],
      "metadata": {
        "id": "H1N82Y1Ltbyt"
      },
      "execution_count": null,
      "outputs": []
    },
    {
      "cell_type": "code",
      "source": [
        "# Merge DataFrames num_trips and df on the 'passengerid' column\n",
        "result = num_trips.merge(df[['passengerid', 'profile_created']], on='passengerid', how='left')\n",
        "#drop duplicate values\n",
        "result=result.drop_duplicates()"
      ],
      "metadata": {
        "id": "RBvMcWVvtyzx"
      },
      "execution_count": null,
      "outputs": []
    },
    {
      "cell_type": "code",
      "source": [
        "result"
      ],
      "metadata": {
        "id": "i-ewE1-ovDfc"
      },
      "execution_count": null,
      "outputs": []
    },
    {
      "cell_type": "markdown",
      "source": [
        "Create new dataframe using **df** columns, it has trips and trip details of customers. so here I create new dataframe using given details."
      ],
      "metadata": {
        "id": "MmhpNWyg6Tm9"
      }
    },
    {
      "cell_type": "code",
      "source": [
        "# Group by 'passengerid' and calculate the mean of the 'delay' column for each group\n",
        "delays = df.groupby('passengerid')['delay'].agg('mean').reset_index()\n",
        "\n",
        "# Rename the columns in the result DataFrame to be more meaningful\n",
        "delays.columns = ['passengerid', 'delay']\n",
        "\n",
        "# Merge DataFrames 'result' and 'delays' on the 'passengerid' column\n",
        "result = result.merge(delays[['passengerid', 'delay']], on='passengerid', how='left')\n",
        "# Remove any duplicate rows in the 'result' DataFrame\n",
        "result=result.drop_duplicates()"
      ],
      "metadata": {
        "id": "BRHLbSFkGuc-"
      },
      "execution_count": null,
      "outputs": []
    },
    {
      "cell_type": "code",
      "source": [
        "# Group by 'passengerid' and calculate the mean of the 'distance' column for each group\n",
        "distance = df.groupby('passengerid')['distance'].agg('mean').reset_index()\n",
        "\n",
        "# Rename the columns in the result DataFrame to be more meaningful\n",
        "distance.columns = ['passengerid', 'distance']\n",
        "\n",
        "# Merge DataFrames 'result' and 'distance' on the 'passengerid' column\n",
        "result = result.merge(distance[['passengerid', 'distance']], on='passengerid', how='left')\n",
        "result=result.drop_duplicates()"
      ],
      "metadata": {
        "id": "SFa4YlLYG9SD"
      },
      "execution_count": null,
      "outputs": []
    },
    {
      "cell_type": "code",
      "source": [
        "# Group by 'passengerid' and calculate the mean of the 'fare' column for each group\n",
        "fare = df.groupby('passengerid')['fare'].agg('mean').reset_index()\n",
        "\n",
        "# Rename the columns in the result DataFrame to be more meaningful\n",
        "fare.columns = ['passengerid', 'fare']\n",
        "\n",
        "# Merge DataFrames 'result' and 'fare' on the 'passengerid' column\n",
        "result = result.merge(fare[['passengerid', 'fare']], on='passengerid', how='left')\n",
        "result=result.drop_duplicates()"
      ],
      "metadata": {
        "id": "7imJJSX6HSVp"
      },
      "execution_count": null,
      "outputs": []
    },
    {
      "cell_type": "code",
      "source": [
        "# Group by 'passengerid' and calculate the mean of the 'taximodelid' column for each group\n",
        "taximodelid = df.groupby('passengerid')['taximodelid'].agg('mean').reset_index()\n",
        "\n",
        "# Rename the columns in the result DataFrame to be more meaningful\n",
        "taximodelid.columns = ['passengerid', 'taximodelid']\n",
        "\n",
        "# Merge DataFrames 'result' and 'taximodelid' on the 'passengerid' column\n",
        "result = result.merge(taximodelid[['passengerid', 'taximodelid']], on='passengerid', how='left')\n",
        "result=result.drop_duplicates()"
      ],
      "metadata": {
        "id": "q51MDCuOHbPq"
      },
      "execution_count": null,
      "outputs": []
    },
    {
      "cell_type": "code",
      "source": [
        "# Group by 'passengerid' and calculate the mean of the 'travel_status' column for each group\n",
        "travel_status = df.groupby('passengerid')['travel_status'].agg('mean').reset_index()\n",
        "\n",
        "# Rename the columns in the result DataFrame to be more meaningful\n",
        "travel_status.columns = ['passengerid', 'travel_status']\n",
        "\n",
        "# Merge DataFrames 'result' and 'travel_status' on the 'passengerid' column\n",
        "result = result.merge(travel_status[['passengerid', 'travel_status']], on='passengerid', how='left')\n",
        "result=result.drop_duplicates()"
      ],
      "metadata": {
        "id": "lFhA5ZoTHoPH"
      },
      "execution_count": null,
      "outputs": []
    },
    {
      "cell_type": "code",
      "source": [
        "# Convert the 'profile_created' column to datetime\n",
        "result['profile_created'] = pd.to_datetime(result['profile_created'])\n",
        "\n",
        "# Group by 'passengerid' and find the latest 'created_date' for each group\n",
        "latest_dates = df.groupby('passengerid')['created_date'].agg('max').reset_index()\n",
        "\n",
        "# Rename the columns in the 'latest_dates' DataFrame\n",
        "latest_dates.columns = ['passengerid', 'Latest_Date']\n",
        "\n",
        "# Merge the 'result' DataFrame with the 'latest_dates' DataFrame on the 'passengerid' column\n",
        "result = result.merge(latest_dates[['passengerid', 'Latest_Date']], on='passengerid', how='left')\n",
        "result=result.drop_duplicates()"
      ],
      "metadata": {
        "id": "7lj3NkgbvpSE"
      },
      "execution_count": null,
      "outputs": []
    },
    {
      "cell_type": "code",
      "source": [
        "result"
      ],
      "metadata": {
        "id": "3OPWua428DUJ"
      },
      "execution_count": null,
      "outputs": []
    },
    {
      "cell_type": "code",
      "source": [
        "result['Latest_Date'] = pd.to_datetime(result['Latest_Date'])\n",
        "\n",
        "# Define a function to calculate the average value\n",
        "def calculate_average(row):\n",
        "    return (row['Latest_Date'] - row['profile_created']).days / row['Trip_count']\n",
        "\n",
        "# Apply the function to each row and create a new 'average' column\n",
        "result['average_days'] = result.apply(calculate_average, axis=1)"
      ],
      "metadata": {
        "id": "AoaFys9Pyv7k"
      },
      "execution_count": null,
      "outputs": []
    },
    {
      "cell_type": "code",
      "source": [
        "result"
      ],
      "metadata": {
        "id": "890NH9iC3NAY"
      },
      "execution_count": null,
      "outputs": []
    },
    {
      "cell_type": "code",
      "source": [
        "#here is the latest date of data set\n",
        "result.Latest_Date.max()"
      ],
      "metadata": {
        "id": "XfOTNs3Q8TGq"
      },
      "execution_count": null,
      "outputs": []
    },
    {
      "cell_type": "code",
      "source": [
        "# Convert the 'date_column' to datetime\n",
        "df['created_date'] = pd.to_datetime(df['created_date'])"
      ],
      "metadata": {
        "id": "yxA9sgmICX3u"
      },
      "execution_count": null,
      "outputs": []
    },
    {
      "cell_type": "code",
      "source": [
        "# Define the date range\n",
        "start_date = pd.to_datetime('2019-08-17')\n",
        "end_date = pd.to_datetime('2019-08-31')\n",
        "\n",
        "# Filter the DataFrame 'df' to include only dates within the specified date range\n",
        "# Group the filtered data by 'passengerid' and count the dates in the specified date range for each group\n",
        "date_counts1 = df[(df['created_date'] >= start_date) & (df['created_date'] <= end_date)].groupby('passengerid')['created_date'].count().reset_index()\n",
        "\n",
        "# Rename the columns in the result DataFrame to make them more meaningful\n",
        "date_counts1.columns = ['passengerid', 'Within_14days_trips']\n",
        "\n",
        "# The 'date_counts' DataFrame now contains the count of trips within the specified 14-day date range for each unique passenger ID\n",
        "print(date_counts1)"
      ],
      "metadata": {
        "id": "eL7IsRYAR3f0"
      },
      "execution_count": null,
      "outputs": []
    },
    {
      "cell_type": "code",
      "source": [
        "# Merge the 'result' DataFrame with the 'date_counts' DataFrame based on the 'passengerid' column\n",
        "result = result.merge(date_counts1[['passengerid', 'Within_14days_trips']], on='passengerid', how='left')\n",
        "result=result.drop_duplicates()"
      ],
      "metadata": {
        "id": "628B0JnkZYZN"
      },
      "execution_count": null,
      "outputs": []
    },
    {
      "cell_type": "code",
      "source": [
        "# Define the date range\n",
        "start_date = pd.to_datetime('2019-07-31')\n",
        "end_date = pd.to_datetime('2019-08-31')\n",
        "\n",
        "# Filter the DataFrame 'df' to include only dates within the specified date range\n",
        "# Group the filtered data by 'passengerid' and count the dates in the specified date range for each group\n",
        "date_counts2 = df[(df['created_date'] >= start_date) & (df['created_date'] <= end_date)].groupby('passengerid')['created_date'].count().reset_index()\n",
        "\n",
        "# Rename the columns in the result DataFrame to make them more meaningful\n",
        "date_counts2.columns = ['passengerid', 'Within_month_trips']"
      ],
      "metadata": {
        "id": "BU7rxHI-atwP"
      },
      "execution_count": null,
      "outputs": []
    },
    {
      "cell_type": "code",
      "source": [
        "# Merge the 'result' DataFrame with the 'date_counts' DataFrame based on the 'passengerid' column\n",
        "result = result.merge(date_counts2[['passengerid', 'Within_month_trips']], on='passengerid', how='left')\n",
        "result=result.drop_duplicates()"
      ],
      "metadata": {
        "id": "n-hclSVMawsE"
      },
      "execution_count": null,
      "outputs": []
    },
    {
      "cell_type": "code",
      "source": [
        "# Define the date range\n",
        "start_date = pd.to_datetime('2019-06-30')\n",
        "end_date = pd.to_datetime('2019-08-31')\n",
        "\n",
        "# Filter the DataFrame 'df' to include only dates within the specified date range\n",
        "# Group the filtered data by 'passengerid' and count the dates in the specified date range for each group\n",
        "date_counts3 = df[(df['created_date'] >= start_date) & (df['created_date'] <= end_date)].groupby('passengerid')['created_date'].count().reset_index()\n",
        "\n",
        "# Rename the columns in the result DataFrame\n",
        "date_counts3.columns = ['passengerid', 'Within_2month_trips']"
      ],
      "metadata": {
        "id": "YHBmLiS07O0v"
      },
      "execution_count": null,
      "outputs": []
    },
    {
      "cell_type": "code",
      "source": [
        "result = result.merge(date_counts3[['passengerid', 'Within_2month_trips']], on='passengerid', how='left')\n",
        "result=result.drop_duplicates()"
      ],
      "metadata": {
        "id": "AXdIRLPf8shP"
      },
      "execution_count": null,
      "outputs": []
    },
    {
      "cell_type": "code",
      "source": [
        "result"
      ],
      "metadata": {
        "id": "604RFkxTck4F"
      },
      "execution_count": null,
      "outputs": []
    },
    {
      "cell_type": "code",
      "source": [
        "#check sum of null values contain in each column\n",
        "result.isna().sum()"
      ],
      "metadata": {
        "id": "QRME-n0Gcm5M"
      },
      "execution_count": null,
      "outputs": []
    },
    {
      "cell_type": "code",
      "source": [
        "#Here we can fill null values using 0, here null values means that custormer did not travel withing that time period.\n",
        "\n",
        "# Fill null values in the 'result' DataFrame with 0\n",
        "result = result.fillna(0)"
      ],
      "metadata": {
        "id": "4UTxTMcMfOgj"
      },
      "execution_count": null,
      "outputs": []
    },
    {
      "cell_type": "code",
      "source": [
        "result.isna().sum()"
      ],
      "metadata": {
        "id": "4YyXF5AsgUv5"
      },
      "execution_count": null,
      "outputs": []
    },
    {
      "cell_type": "code",
      "source": [
        "# Creating boxplot\n",
        "plt.boxplot(result['average_days'])\n",
        "plt.show()\n",
        "\n",
        "#here I can get a idea outliers in average_days column and set cutoff limit"
      ],
      "metadata": {
        "id": "SSmZxxLaBlZp"
      },
      "execution_count": null,
      "outputs": []
    },
    {
      "cell_type": "code",
      "source": [
        "#get maximum average_days column value\n",
        "result.average_days.max()"
      ],
      "metadata": {
        "id": "5cvzFnoBCHO2"
      },
      "execution_count": null,
      "outputs": []
    },
    {
      "cell_type": "markdown",
      "source": [
        "Here I define my custormer churn criteria,  \n",
        "\n",
        "*   average_days - The average number of days customers take to travel\n",
        "*   Within_month_trips - Customer's last month's travel frequency\n",
        "* Within_2month_trips - Customer's last 2 month's travel frequency\n",
        "\n",
        "\n",
        "***If the 'average_days' is less than 30 and there are no trips within the last month (Within_month_trips is 0) or if the 'average_days' is less than 60 and there are no trips within the last 2 months (Within_2month_trips is 0), the 'Churn' value is set to 'yes'; otherwise, it's set to 'no'.***\n",
        "\n",
        "***if the 'average_days' is greater than 3 months and sets 'Churn' to 'yes' for customers with such long 'average_days'.***"
      ],
      "metadata": {
        "id": "an6UtU0i-mNM"
      }
    },
    {
      "cell_type": "code",
      "source": [
        "# Calculate the 'Churn' column based on specified conditions\n",
        "result['Churn'] = np.where(\n",
        "    ((result['average_days'] < 30) & (result['Within_month_trips'] == 0)) |\n",
        "    ((result['average_days'] < 60) & (result['Within_2month_trips'] == 0)),\n",
        "    'Yes',\n",
        "    'No'\n",
        ")\n",
        "\n",
        "# Set 'Churn' to 'yes' for customers with 'average_days' greater than 270\n",
        "result.loc[result['average_days'] > 270, 'Churn'] = 'Yes'\n"
      ],
      "metadata": {
        "id": "hjsVjBJf-27z"
      },
      "execution_count": null,
      "outputs": []
    },
    {
      "cell_type": "code",
      "source": [
        "result"
      ],
      "metadata": {
        "id": "bRb89W7GDK9p"
      },
      "execution_count": null,
      "outputs": []
    },
    {
      "cell_type": "code",
      "source": [
        "#calculate churn column values\n",
        "result[\"Churn\"].value_counts()"
      ],
      "metadata": {
        "id": "TysuVtDr3pwN"
      },
      "execution_count": null,
      "outputs": []
    },
    {
      "cell_type": "code",
      "source": [
        "result.head()"
      ],
      "metadata": {
        "id": "ASZz5fDW7LAR"
      },
      "execution_count": null,
      "outputs": []
    },
    {
      "cell_type": "code",
      "source": [
        "# Create a new DataFrame 'df2' by dropping selected columns from the 'result' DataFrame\n",
        "df2=result.drop(['profile_created','Latest_Date','Within_14days_trips','Within_month_trips','Within_2month_trips','passengerid'],axis=1)"
      ],
      "metadata": {
        "id": "SW4FEZo1GdWj"
      },
      "execution_count": null,
      "outputs": []
    },
    {
      "cell_type": "code",
      "source": [
        "df2.head()"
      ],
      "metadata": {
        "id": "CQv5Xep7NuUx"
      },
      "execution_count": null,
      "outputs": []
    },
    {
      "cell_type": "code",
      "source": [
        "df2_numeric = df2.drop(['Churn'],axis=1)"
      ],
      "metadata": {
        "id": "NaRAehgaOCwy"
      },
      "execution_count": null,
      "outputs": []
    },
    {
      "cell_type": "code",
      "source": [
        "#Create a figure and subplots\n",
        "fig, axes = plt.subplots(2, 4, figsize=(12, 6))  # Adjust the size as needed\n",
        "\n",
        "# List of column names you want to plot (assuming 7 columns)\n",
        "columns_to_plot = df2_numeric.columns\n",
        "\n",
        "# Loop through the columns and create individual boxplots\n",
        "for i, col in enumerate(columns_to_plot):\n",
        "    ax = axes[i // 4, i % 4]  # Determine the subplot position\n",
        "    df2_numeric.boxplot(column=col, ax=ax)\n",
        "    ax.set_title(col)\n",
        "\n",
        "# Adjust layout and spacing\n",
        "plt.tight_layout()\n",
        "\n",
        "# Show the plots\n",
        "plt.show()\n"
      ],
      "metadata": {
        "id": "EePtTZKwbsIh"
      },
      "execution_count": null,
      "outputs": []
    },
    {
      "cell_type": "code",
      "source": [
        "df2_numeric.loc[df2_numeric['distance']>=5000,'distance']=df2_numeric.distance.mean()\n",
        "#df2_numeric.loc[df2_numeric['Fare']>=100,'Fare']=100"
      ],
      "metadata": {
        "id": "ie-ZisaUbzTg"
      },
      "execution_count": null,
      "outputs": []
    },
    {
      "cell_type": "code",
      "source": [
        "#Create a figure and subplots\n",
        "fig, axes = plt.subplots(2, 4, figsize=(12, 6))  # Adjust the size as needed\n",
        "\n",
        "# List of column names you want to plot (assuming 7 columns)\n",
        "columns_to_plot = df2_numeric.columns\n",
        "\n",
        "# Loop through the columns and create individual boxplots\n",
        "for i, col in enumerate(columns_to_plot):\n",
        "    ax = axes[i // 4, i % 4]  # Determine the subplot position\n",
        "    df2_numeric.boxplot(column=col, ax=ax)\n",
        "    ax.set_title(col)\n",
        "\n",
        "# Adjust layout and spacing\n",
        "plt.tight_layout()\n",
        "\n",
        "# Show the plots\n",
        "plt.show()\n"
      ],
      "metadata": {
        "id": "1lyABIWSjxBS"
      },
      "execution_count": null,
      "outputs": []
    },
    {
      "cell_type": "code",
      "source": [
        "sns.heatmap(df2_numeric.corr(), annot=True)"
      ],
      "metadata": {
        "id": "ZtdW0ybdnGZn"
      },
      "execution_count": null,
      "outputs": []
    },
    {
      "cell_type": "code",
      "source": [
        "# Separate features and target variable\n",
        "X = df2.drop('Churn', axis=1)\n",
        "y = df2['Churn']"
      ],
      "metadata": {
        "id": "qFAbSW8g0CH_"
      },
      "execution_count": null,
      "outputs": []
    },
    {
      "cell_type": "code",
      "source": [
        "# Normalize numerical variables\n",
        "scaler = MinMaxScaler()\n",
        "X_scaled = scaler.fit_transform(X)"
      ],
      "metadata": {
        "id": "335RBIsQzzqu"
      },
      "execution_count": null,
      "outputs": []
    },
    {
      "cell_type": "code",
      "source": [
        "y.replace('Yes',1,inplace=True)\n",
        "y.replace('No',0,inplace=True)"
      ],
      "metadata": {
        "id": "m5HFbcEG2QQ8"
      },
      "execution_count": null,
      "outputs": []
    },
    {
      "cell_type": "code",
      "source": [
        "# Split data into training and testing sets\n",
        "X_train, X_test, y_train, y_test = train_test_split(X_scaled, y, test_size=0.2, random_state=42)"
      ],
      "metadata": {
        "id": "mnhLZ9ZrzwBg"
      },
      "execution_count": null,
      "outputs": []
    },
    {
      "cell_type": "code",
      "source": [
        "# Handle class imbalance (e.g., using SMOTE)\n",
        "from imblearn.over_sampling import SMOTE\n",
        "smote = SMOTE()\n",
        "X_train, y_train = smote.fit_resample(X_train, y_train)"
      ],
      "metadata": {
        "id": "cgEzYkdL00RM"
      },
      "execution_count": null,
      "outputs": []
    },
    {
      "cell_type": "code",
      "source": [
        "y_train.value_counts()"
      ],
      "metadata": {
        "id": "nxTMRbB500Wl"
      },
      "execution_count": null,
      "outputs": []
    },
    {
      "cell_type": "code",
      "source": [
        "log_model = LogisticRegression(max_iter=10000)\n",
        "log_model.fit(X_train, y_train)\n",
        "\n",
        "log_pred = log_model.predict(X_test)\n",
        "\n",
        "print(classification_report(y_test, log_pred))\n",
        "print(confusion_matrix(y_test, log_pred))"
      ],
      "metadata": {
        "id": "Fi23_Kplwqyt"
      },
      "execution_count": null,
      "outputs": []
    },
    {
      "cell_type": "code",
      "source": [
        "rfc = RandomForestClassifier()\n",
        "rfc.fit(X_train, y_train)\n",
        "\n",
        "rfc_pred = rfc.predict(X_test)\n",
        "\n",
        "print(classification_report(y_test, rfc_pred))\n",
        "print(confusion_matrix(y_test, rfc_pred))"
      ],
      "metadata": {
        "id": "pgaMRiAw1T98"
      },
      "execution_count": null,
      "outputs": []
    },
    {
      "cell_type": "code",
      "source": [
        "model = XGBClassifier()\n",
        "model.fit(X_train, y_train)\n",
        "\n",
        "model_pred = model.predict(X_test)\n",
        "\n",
        "print(classification_report(y_test, model_pred))\n",
        "print(confusion_matrix(y_test, model_pred))"
      ],
      "metadata": {
        "id": "UUPtjtRa1WhS"
      },
      "execution_count": null,
      "outputs": []
    },
    {
      "cell_type": "code",
      "source": [
        "model = GradientBoostingClassifier()\n",
        "model.fit(X_train, y_train)\n",
        "\n",
        "model_pred = model.predict(X_test)\n",
        "\n",
        "print(classification_report(y_test, model_pred))\n",
        "print(confusion_matrix(y_test, model_pred))"
      ],
      "metadata": {
        "id": "NGKitd5_1eSl"
      },
      "execution_count": null,
      "outputs": []
    },
    {
      "cell_type": "code",
      "source": [],
      "metadata": {
        "id": "UIIEO02j1mfF"
      },
      "execution_count": null,
      "outputs": []
    }
  ]
}